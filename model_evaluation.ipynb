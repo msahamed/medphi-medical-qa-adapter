{
 "cells": [
  {
   "cell_type": "code",
   "execution_count": 2,
   "id": "17844501-d4f5-4ea2-a513-8f0ce23ad9a9",
   "metadata": {},
   "outputs": [],
   "source": [
    "# ! pip install lm-eval"
   ]
  },
  {
   "cell_type": "code",
   "execution_count": 3,
   "id": "07f1f876-00c6-40b1-9979-ad0814079d56",
   "metadata": {},
   "outputs": [],
   "source": [
    "import subprocess\n",
    "import json"
   ]
  },
  {
   "cell_type": "code",
   "execution_count": null,
   "id": "bd28d75e-4a25-4f1a-9b35-b394bf24c6a7",
   "metadata": {},
   "outputs": [],
   "source": [
    "# Install lm-eval\n",
    "# pip install lm-eval\n",
    "\n",
    "# Example medical evaluation script\n",
    "import subprocess\n",
    "import json\n",
    "\n",
    "def run_medical_evaluation(model_path, tasks):\n",
    "    \"\"\"\n",
    "    Run medical evaluations using lm-eval-harness\n",
    "    \"\"\"\n",
    "    medical_tasks = [\n",
    "        \"medqa\",\n",
    "        \"medmcqa\", \n",
    "        \"pubmedqa\",\n",
    "        \"mmlu_anatomy\",\n",
    "        \"mmlu_clinical_knowledge\",\n",
    "        \"mmlu_college_medicine\",\n",
    "        \"mmlu_medical_genetics\",\n",
    "        \"mmlu_professional_medicine\"\n",
    "    ]\n",
    "    \n",
    "    results = {}\n",
    "    \n",
    "    for task in medical_tasks:\n",
    "        cmd = [\n",
    "            \"lm_eval\",\n",
    "            \"--model\", \"hf\",\n",
    "            \"--model_args\", f\"pretrained={model_path}\",\n",
    "            \"--tasks\", task,\n",
    "            \"--batch_size\", \"8\",\n",
    "            \"--output_path\", f\"./results/{task}\"\n",
    "        ]\n",
    "        \n",
    "        try:\n",
    "            result = subprocess.run(cmd, capture_output=True, text=True)\n",
    "            # Parse results\n",
    "            with open(f\"./results/{task}/results.json\") as f:\n",
    "                task_results = json.load(f)\n",
    "            results[task] = task_results\n",
    "        except Exception as e:\n",
    "            print(f\"Error evaluating {task}: {e}\")\n",
    "    \n",
    "    return results"
   ]
  },
  {
   "cell_type": "code",
   "execution_count": null,
   "id": "b8877833-3457-48f8-a506-487f05f1a55b",
   "metadata": {},
   "outputs": [],
   "source": [
    "\n",
    "# Usage\n",
    "model_path = \"./your_fine_tuned_model\"\n",
    "medical_results = run_medical_evaluation(model_path, medical_tasks)"
   ]
  }
 ],
 "metadata": {
  "kernelspec": {
   "display_name": "Python 3 (ipykernel)",
   "language": "python",
   "name": "python3"
  },
  "language_info": {
   "codemirror_mode": {
    "name": "ipython",
    "version": 3
   },
   "file_extension": ".py",
   "mimetype": "text/x-python",
   "name": "python",
   "nbconvert_exporter": "python",
   "pygments_lexer": "ipython3",
   "version": "3.11.11"
  }
 },
 "nbformat": 4,
 "nbformat_minor": 5
}
